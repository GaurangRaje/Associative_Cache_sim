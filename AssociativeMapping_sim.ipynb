{
 "cells": [
  {
   "cell_type": "markdown",
   "metadata": {},
   "source": [
    "# Memory size = 128 words denoted by 7 bits\n",
    "# Number of blocks = 32 addressed by 5 bits of block number\n",
    "# Words per block = 4 selected using block offset of 2 bits\n",
    "\n",
    "# Cache size = 16 words total\n",
    "# Number of lines = 4 \n",
    "# 1 block per line i.e. 4 words per line"
   ]
  },
  {
   "cell_type": "code",
   "execution_count": 148,
   "metadata": {},
   "outputs": [],
   "source": [
    "import numpy as np"
   ]
  },
  {
   "cell_type": "markdown",
   "metadata": {},
   "source": [
    "# Initial conditions"
   ]
  },
  {
   "cell_type": "code",
   "execution_count": 209,
   "metadata": {},
   "outputs": [],
   "source": [
    "cache = [np.array([int, np.empty(4), int], dtype=object), \n",
    "         np.array([int, np.empty(4), int], dtype=object), \n",
    "         np.array([int, np.empty(4), int], dtype=object), \n",
    "         np.array([int, np.empty(4), int], dtype=object)] \n",
    "mem = [[0]*4 for x in range(32)]\n",
    "\n",
    "global cache_counter\n",
    "cache_counter = 0"
   ]
  },
  {
   "cell_type": "markdown",
   "metadata": {},
   "source": [
    "# Separate block number and block offset"
   ]
  },
  {
   "cell_type": "code",
   "execution_count": 104,
   "metadata": {},
   "outputs": [],
   "source": [
    "def partition(i):\n",
    "    b_offset = int(\"{:02d}\".format(i%100))\n",
    "    b_no = int(i / 100)\n",
    "    return b_no, b_offset"
   ]
  },
  {
   "cell_type": "markdown",
   "metadata": {},
   "source": [
    "# Check cache for hit or miss indicated by valid bit. \n",
    "If valid = 1 => hit, if valid = 0 => miss"
   ]
  },
  {
   "cell_type": "code",
   "execution_count": 246,
   "metadata": {},
   "outputs": [],
   "source": [
    "def check_cache(b_no, b_offset):\n",
    "    global cache_counter\n",
    "    valid = 0\n",
    "    \n",
    "    for i in range(4): #Check for hit or miss\n",
    "        if cache[i][0] == b_no:\n",
    "            valid = 1\n",
    "            break\n",
    "        else:\n",
    "            valid = 0\n",
    "            \n",
    "    if(valid): #hit\n",
    "        print(f\"Data: {cache[i][1][b_offset]}\")\n",
    "        cache[i][2] += 1\n",
    "    else: #miss\n",
    "        if(cache_counter <= 3):\n",
    "            cache[cache_counter][0] = b_no\n",
    "            cache[cache_counter][1] = mem[block_number]\n",
    "            cache[cache_counter][2] = 0\n",
    "            cache_counter += 1\n",
    "            print(f\"Data: {mem[b_no][b_offset]}\")\n",
    "        else:\n",
    "            lowest_priority = min(cache[0][2], cache[1][2], cache[2][2], cache[3][2])\n",
    "            for i in range(4):\n",
    "                if(cache[i][2] == lowest_priority):\n",
    "                    cache[i][0] = b_no\n",
    "                    cache[i][1] = mem[block_number]\n",
    "                    cache[i][2] = 0\n",
    "                    break\n",
    "            \n",
    "    return int(valid)"
   ]
  },
  {
   "cell_type": "markdown",
   "metadata": {},
   "source": [
    "# Main function"
   ]
  },
  {
   "cell_type": "code",
   "execution_count": 247,
   "metadata": {},
   "outputs": [
    {
     "name": "stdout",
     "output_type": "stream",
     "text": [
      "Enter 1 for read, 0 for write and q to exit: \n"
     ]
    },
    {
     "name": "stdin",
     "output_type": "stream",
     "text": [
      " 1\n"
     ]
    },
    {
     "name": "stdout",
     "output_type": "stream",
     "text": [
      "Enter memory address: \n"
     ]
    },
    {
     "name": "stdin",
     "output_type": "stream",
     "text": [
      " 0000010\n"
     ]
    },
    {
     "name": "stdout",
     "output_type": "stream",
     "text": [
      "Data: 42\n",
      "Hit/Miss: 1\n",
      "Enter 1 for read, 0 for write and q to exit: \n"
     ]
    },
    {
     "name": "stdin",
     "output_type": "stream",
     "text": [
      " q\n"
     ]
    }
   ],
   "source": [
    "while(1):\n",
    "    print(\"Enter 1 for read, 0 for write and q to exit: \")\n",
    "    temp = input()\n",
    "    if(temp == 'q'): # Quit Condition\n",
    "        break\n",
    "    else:\n",
    "        rw = int(temp)\n",
    "        print(\"Enter memory address: \")\n",
    "        i = int(input())\n",
    "        block_number, block_offset = partition(i)\n",
    "        block_number = int(str(block_number), 2)\n",
    "        block_offset = int(str(block_offset), 2)\n",
    "#         print(f\"block_number: {block_number}\")\n",
    "#         print(f\"block_offset: {block_offset}\")\n",
    "        \n",
    "        if(rw): # Read Operation\n",
    "            hit = check_cache(block_number, block_offset)\n",
    "            print(f\"Hit/Miss: {hit}\")\n",
    "        else: # Write Operation\n",
    "            print(\"Enter data: \")\n",
    "            data = int(input())\n",
    "            mem[block_number][block_offset] = data"
   ]
  },
  {
   "cell_type": "markdown",
   "metadata": {},
   "source": [
    "# Debug"
   ]
  },
  {
   "cell_type": "code",
   "execution_count": 243,
   "metadata": {},
   "outputs": [
    {
     "data": {
      "text/plain": [
       "[[0, 0, 42, 0],\n",
       " [69, 0, 0, 0],\n",
       " [0, 0, 0, 70],\n",
       " [0, 0, 0, 0],\n",
       " [0, 0, 0, 0],\n",
       " [0, 0, 0, 0],\n",
       " [0, 0, 0, 0],\n",
       " [0, 0, 0, 0],\n",
       " [0, 0, 25, 0],\n",
       " [0, 0, 0, 0],\n",
       " [0, 0, 0, 0],\n",
       " [0, 0, 0, 0],\n",
       " [0, 0, 0, 0],\n",
       " [0, 0, 0, 0],\n",
       " [0, 0, 0, 0],\n",
       " [0, 0, 0, 0],\n",
       " [0, 0, 0, 0],\n",
       " [0, 0, 0, 0],\n",
       " [25, 0, 0, 50],\n",
       " [0, 0, 0, 0],\n",
       " [0, 0, 0, 0],\n",
       " [0, 0, 0, 0],\n",
       " [0, 0, 0, 0],\n",
       " [0, 0, 0, 0],\n",
       " [0, 0, 0, 0],\n",
       " [0, 0, 0, 0],\n",
       " [0, 0, 0, 0],\n",
       " [0, 0, 0, 0],\n",
       " [0, 0, 0, 0],\n",
       " [0, 0, 0, 0],\n",
       " [0, 0, 0, 0],\n",
       " [0, 0, 0, 0]]"
      ]
     },
     "execution_count": 243,
     "metadata": {},
     "output_type": "execute_result"
    }
   ],
   "source": [
    "mem"
   ]
  },
  {
   "cell_type": "code",
   "execution_count": 240,
   "metadata": {},
   "outputs": [
    {
     "data": {
      "text/plain": [
       "[array([18, list([25, 0, 0, 50]), 2], dtype=object),\n",
       " array([0, list([0, 0, 42, 0]), 0], dtype=object),\n",
       " array([8, list([0, 0, 25, 0]), 1], dtype=object),\n",
       " array([1, list([69, 0, 0, 0]), 1], dtype=object)]"
      ]
     },
     "execution_count": 240,
     "metadata": {},
     "output_type": "execute_result"
    }
   ],
   "source": [
    "cache"
   ]
  },
  {
   "cell_type": "code",
   "execution_count": 241,
   "metadata": {},
   "outputs": [
    {
     "data": {
      "text/plain": [
       "4"
      ]
     },
     "execution_count": 241,
     "metadata": {},
     "output_type": "execute_result"
    }
   ],
   "source": [
    "cache_counter"
   ]
  },
  {
   "cell_type": "code",
   "execution_count": null,
   "metadata": {},
   "outputs": [],
   "source": []
  }
 ],
 "metadata": {
  "kernelspec": {
   "display_name": "Python 3",
   "language": "python",
   "name": "python3"
  },
  "language_info": {
   "codemirror_mode": {
    "name": "ipython",
    "version": 3
   },
   "file_extension": ".py",
   "mimetype": "text/x-python",
   "name": "python",
   "nbconvert_exporter": "python",
   "pygments_lexer": "ipython3",
   "version": "3.7.3"
  }
 },
 "nbformat": 4,
 "nbformat_minor": 4
}
